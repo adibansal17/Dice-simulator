{
 "cells": [
  {
   "cell_type": "code",
   "execution_count": null,
   "metadata": {},
   "outputs": [
    {
     "name": "stdout",
     "output_type": "stream",
     "text": [
      "Dice Simulator\n",
      "---------\n",
      "|      0|\n",
      "|   0   |\n",
      "|0      |\n",
      "---------\n",
      "Enter y to roll and n to exity\n",
      "---------\n",
      "|       |\n",
      "| 0   0 |\n",
      "|       |\n",
      "---------\n",
      "Enter y to roll and n to exity\n",
      "---------\n",
      "| 0   0 |\n",
      "|       |\n",
      "| 0   0 |\n",
      "---------\n",
      "Enter y to roll and n to exity\n",
      "---------\n",
      "| 0   0 |\n",
      "|   0   |\n",
      "| 0   0 |\n",
      "---------\n"
     ]
    }
   ],
   "source": [
    "import random\n",
    "print(\"Dice Simulator\")\n",
    "r = 'y'\n",
    "while(r =='y'):\n",
    "    x = random.randint(1,6)  \n",
    "    if(x==1):\n",
    "        print(\"---------\")\n",
    "        print(\"|       |\")\n",
    "        print(\"|   0   |\")\n",
    "        print(\"|       |\")\n",
    "        print(\"---------\")\n",
    "    elif(x==2):\n",
    "        print(\"---------\")\n",
    "        print(\"|       |\")\n",
    "        print(\"| 0   0 |\")\n",
    "        print(\"|       |\")\n",
    "        print(\"---------\")\n",
    "    elif(x==3):\n",
    "        print(\"---------\")\n",
    "        print(\"|      0|\")\n",
    "        print(\"|   0   |\")\n",
    "        print(\"|0      |\")\n",
    "        print(\"---------\")\n",
    "    elif(x==4):\n",
    "        print(\"---------\")\n",
    "        print(\"| 0   0 |\")\n",
    "        print(\"|       |\")\n",
    "        print(\"| 0   0 |\")\n",
    "        print(\"---------\")\n",
    "    elif(x==5):\n",
    "        print(\"---------\")\n",
    "        print(\"| 0   0 |\")\n",
    "        print(\"|   0   |\")\n",
    "        print(\"| 0   0 |\")\n",
    "        print(\"---------\")\n",
    "    else:\n",
    "        print(\"---------\")\n",
    "        print(\"| 0   0 |\")\n",
    "        print(\"| 0   0 |\")\n",
    "        print(\"| 0   0 |\")\n",
    "        print(\"---------\")\n",
    "    r = input(\"Enter y to roll and n to exit\")"
   ]
  }
 ],
 "metadata": {
  "kernelspec": {
   "display_name": "Python 3",
   "language": "python",
   "name": "python3"
  },
  "language_info": {
   "codemirror_mode": {
    "name": "ipython",
    "version": 3
   },
   "file_extension": ".py",
   "mimetype": "text/x-python",
   "name": "python",
   "nbconvert_exporter": "python",
   "pygments_lexer": "ipython3",
   "version": "3.7.6"
  }
 },
 "nbformat": 4,
 "nbformat_minor": 4
}
